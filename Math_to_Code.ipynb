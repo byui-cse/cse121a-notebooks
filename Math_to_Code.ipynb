{
  "nbformat": 4,
  "nbformat_minor": 0,
  "metadata": {
    "colab": {
      "name": "Math_to_Code.ipynb",
      "provenance": [],
      "authorship_tag": "ABX9TyMx/tRrPj/or3dzQg4PXJAN",
      "include_colab_link": true
    },
    "kernelspec": {
      "name": "python3",
      "display_name": "Python 3"
    }
  },
  "cells": [
    {
      "cell_type": "markdown",
      "metadata": {
        "id": "view-in-github",
        "colab_type": "text"
      },
      "source": [
        "<a href=\"https://colab.research.google.com/github/byui-cse/cse121a-notebooks/blob/main/Math_to_Code.ipynb\" target=\"_parent\"><img src=\"https://colab.research.google.com/assets/colab-badge.svg\" alt=\"Open In Colab\"/></a>"
      ]
    },
    {
      "cell_type": "code",
      "metadata": {
        "id": "O3fkq1dzI_-7"
      },
      "source": [
        ""
      ],
      "execution_count": null,
      "outputs": []
    },
    {
      "cell_type": "markdown",
      "metadata": {
        "id": "H0nilulpKI0j"
      },
      "source": [
        "# Math to Code\n",
        "## In-Class Exercise\n",
        "### Monday, 8 March 2021"
      ]
    },
    {
      "cell_type": "markdown",
      "metadata": {
        "id": "-vwCrVFhLDv1"
      },
      "source": [
        "Convert the following math expression into Clojure code:"
      ]
    },
    {
      "cell_type": "markdown",
      "metadata": {
        "id": "9-gp0hmPJZxb"
      },
      "source": [
        "$$\\sum_{k=1}^{n} \\frac{2n^2}{k^2} \\frac{\\prod_{i=1}^{n-1}(4k^4 + i^4)}{\\prod_{i=1,\\ i \\ne k}^{n}(k^4 - i^4)}$$"
      ]
    },
    {
      "cell_type": "markdown",
      "metadata": {
        "id": "kt235F7DLzF4"
      },
      "source": [
        "## Hint:"
      ]
    },
    {
      "cell_type": "markdown",
      "metadata": {
        "id": "fYHHQ5-aLKHd"
      },
      "source": [
        "\"Think in functions!\"\n",
        "\n",
        "Make your solution a function that takes $n$ as its only parameter.\n",
        "\n",
        "Use helper functions that your top-level function will call.\n",
        "\n",
        "These helpers will take $n$ **and** $k$ as parameters."
      ]
    },
    {
      "cell_type": "markdown",
      "metadata": {
        "id": "4NnWcwbVnlU5"
      },
      "source": [
        "## A Sample Solution"
      ]
    },
    {
      "cell_type": "code",
      "metadata": {
        "id": "vsEr0QsknjPn"
      },
      "source": [
        "!git clone https://github.com/rickneff/tmp c"
      ],
      "execution_count": null,
      "outputs": []
    },
    {
      "cell_type": "code",
      "metadata": {
        "id": "eaKFzkMHoqt1"
      },
      "source": [
        "!c/j"
      ],
      "execution_count": null,
      "outputs": []
    },
    {
      "cell_type": "code",
      "metadata": {
        "id": "xjAeWDQZr0qQ"
      },
      "source": [
        "!cat clj.py"
      ],
      "execution_count": null,
      "outputs": []
    },
    {
      "cell_type": "code",
      "metadata": {
        "id": "kZM92WEPpdPO"
      },
      "source": [
        "from clj import *\n",
        "clj('''\n",
        "(def n 5)\n",
        "(println\n",
        "(map (fn [k] (/ (* 2 n n) (* k k)))\n",
        "     (range 1 (inc n)))\n",
        ")\n",
        "''')"
      ],
      "execution_count": null,
      "outputs": []
    },
    {
      "cell_type": "code",
      "metadata": {
        "id": "biaNI_qwpuVw"
      },
      "source": [
        "clj('''\n",
        "(println\n",
        "((fn [n] (map (fn [k] (/ (* 2 n n) (* k k))) (range 1 (inc n)))) 5)\n",
        ")\n",
        "''')"
      ],
      "execution_count": null,
      "outputs": []
    },
    {
      "cell_type": "code",
      "metadata": {
        "id": "4K2dlkAzqanI",
        "colab": {
          "base_uri": "https://localhost:8080/"
        },
        "outputId": "ae2a4d5f-b08e-414f-ae89-240c343c38d4"
      },
      "source": [
        "clj('''\n",
        "(defn a-product-of-a-function-of-n-and-k [n k]\n",
        "  (apply * (map (fn [i] (+ (* 4 k k k k) (* i i i i))) (range 1 n))))\n",
        "\n",
        "(defn another-product-of-a-function-of-n-and-k [n k]\n",
        "  (* (apply * (map (fn [i] (- (* k k k k) (* i i i i))) (range 1 k)))\n",
        "     (apply * (map (fn [i] (- (* k k k k) (* i i i i))) (range (inc k) (inc n))))))\n",
        "\n",
        "(defn a-function-of-n-and-k [n k]\n",
        "  (/ (* 2 n n (a-product-of-a-function-of-n-and-k n k))\n",
        "     (* k k (another-product-of-a-function-of-n-and-k n k))))\n",
        "\n",
        "(defn math-to-code [n]\n",
        "   (apply + (map (fn [k] (a-function-of-n-and-k n k)) (range 1 (inc n)))))\n",
        "\n",
        "(println (map math-to-code (range 1 6)))\n",
        "''')"
      ],
      "execution_count": null,
      "outputs": [
        {
          "output_type": "stream",
          "text": [
            "(2 6N 20N 70N 252N)\n",
            "\n"
          ],
          "name": "stdout"
        }
      ]
    },
    {
      "cell_type": "markdown",
      "metadata": {
        "id": "Rqyn2chZz97b"
      },
      "source": [
        "### Recall permutations and combinations?"
      ]
    },
    {
      "cell_type": "markdown",
      "metadata": {
        "id": "8tc9Lc11xmJ7"
      },
      "source": [
        "$P(n, k) = \\frac{n!}{(n-k)!}$\n",
        "\n",
        "$C(n, k) = \\frac{n!}{(n-k)!k!}$"
      ]
    },
    {
      "cell_type": "markdown",
      "metadata": {
        "id": "Bz-wP8eIx6ZR"
      },
      "source": [
        "Combinations are AKA \"choices\" --- as in\n",
        "\n",
        "$C(n, k) = {n \\choose k}$\n",
        "\n",
        "This is $n$ \"choose\" $k$.\n",
        "\n",
        "For example, ${6 \\choose 2}$\n",
        "\n",
        "$$= \\frac{6!}{4!2!} = \\frac{6 \\times 5 \\times 4 \\times 3 \\times 2 \\times 1}{4 \\times 3 \\times 2 \\times 1 \\cdot 2 \\times 1}$$\n",
        "\n",
        "$$= \\frac{6 \\times 5 \\cdot 4 \\times 3 \\times 2 \\times 1}{\\hspace{12ex} 4 \\times 3 \\times 2 \\times 1 \\cdot 2 \\times 1}$$\n",
        "\n",
        "$$= \\frac{6 \\times 5}{2 \\times 1} = \\frac{30}{2} = 15.$$\n"
      ]
    },
    {
      "cell_type": "code",
      "metadata": {
        "id": "RaXnH81fn7X_",
        "colab": {
          "base_uri": "https://localhost:8080/"
        },
        "outputId": "9d242d79-8495-4bd9-df7e-9da4462e9dc1"
      },
      "source": [
        "clj('''\n",
        "(defn choose [n k]\n",
        "  (/ (apply * (range n (- n k) -1))\n",
        "     (apply * (range 1 (inc k)))))\n",
        "\n",
        "(println (choose 28 14))\n",
        "\n",
        "(def n (apply * (range 28 14 -1)))\n",
        "(def d (apply * (range 1 15)))\n",
        "(println (list '/ n d))\n",
        "(println (/ n d))\n",
        "''') "
      ],
      "execution_count": null,
      "outputs": [
        {
          "output_type": "stream",
          "text": [
            "40116600\n",
            "(/ 3497296636753920000 87178291200)\n",
            "40116600\n",
            "\n"
          ],
          "name": "stdout"
        }
      ]
    },
    {
      "cell_type": "markdown",
      "metadata": {
        "id": "nfT_1s36rFe8"
      },
      "source": [
        "### A Coincidence?"
      ]
    },
    {
      "cell_type": "markdown",
      "metadata": {
        "id": "ISX1Ft3vrK6c"
      },
      "source": [
        "https://oeis.org\n"
      ]
    },
    {
      "cell_type": "markdown",
      "metadata": {
        "id": "bZ6CBFI6rOgg"
      },
      "source": [
        "### Maybe not!"
      ]
    },
    {
      "cell_type": "markdown",
      "metadata": {
        "id": "JN684l08rT5k"
      },
      "source": [
        "https://oeis.org/search?q=2%2C6%2C20%2C70%2C252&language=english&go=Search"
      ]
    },
    {
      "cell_type": "code",
      "metadata": {
        "id": "ssoKhaqK12Rp"
      },
      "source": [
        "from clj import *\n",
        "clj('''\n",
        "(println\n",
        "(count (range 3 (inc (Math/sqrt 1041097815469159199)) 2))\n",
        ")\n",
        "''')"
      ],
      "execution_count": null,
      "outputs": []
    }
  ]
}