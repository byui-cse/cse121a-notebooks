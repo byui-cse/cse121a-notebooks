{
  "nbformat": 4,
  "nbformat_minor": 0,
  "metadata": {
    "colab": {
      "name": "Math_to_Code.ipynb",
      "provenance": [],
      "authorship_tag": "ABX9TyOHblzpddeh9VsIYLzVQH0A",
      "include_colab_link": true
    },
    "kernelspec": {
      "name": "python3",
      "display_name": "Python 3"
    }
  },
  "cells": [
    {
      "cell_type": "markdown",
      "metadata": {
        "id": "view-in-github",
        "colab_type": "text"
      },
      "source": [
        "<a href=\"https://colab.research.google.com/github/byui-cse/cse121a-notebooks/blob/main/Math_to_Code.ipynb\" target=\"_parent\"><img src=\"https://colab.research.google.com/assets/colab-badge.svg\" alt=\"Open In Colab\"/></a>"
      ]
    },
    {
      "cell_type": "markdown",
      "metadata": {
        "id": "H0nilulpKI0j"
      },
      "source": [
        "# Math to Code\n",
        "## In-Class Exercise\n",
        "### Monday, 8 March 2021"
      ]
    },
    {
      "cell_type": "markdown",
      "metadata": {
        "id": "-vwCrVFhLDv1"
      },
      "source": [
        "Convert the following math expression into Clojure code:"
      ]
    },
    {
      "cell_type": "markdown",
      "metadata": {
        "id": "9-gp0hmPJZxb"
      },
      "source": [
        "$$\\sum_{k=1}^{n} \\frac{2n^2}{k^2} \\frac{\\prod_{i=1}^{n-1}(4k^4 + i^4)}{\\prod_{i=1,\\ i \\ne k}^{n}(k^4 - i^4)}$$"
      ]
    },
    {
      "cell_type": "markdown",
      "metadata": {
        "id": "kt235F7DLzF4"
      },
      "source": [
        "## Hint:"
      ]
    },
    {
      "cell_type": "markdown",
      "metadata": {
        "id": "fYHHQ5-aLKHd"
      },
      "source": [
        "\"Think in functions!\"\n",
        "\n",
        "Make your solution a function that takes $n$ as its only parameter.\n",
        "\n",
        "Use helper functions that your top-level function will call.\n",
        "\n",
        "These helpers will take $n$ **and** $k$ as parameters."
      ]
    }
  ]
}