{
  "nbformat": 4,
  "nbformat_minor": 0,
  "metadata": {
    "colab": {
      "name": "03_1_Hints_and_Helps.ipynb",
      "provenance": [],
      "authorship_tag": "ABX9TyOMacWjNavvQAtLKO6P5zUp",
      "include_colab_link": true
    },
    "kernelspec": {
      "name": "python3",
      "display_name": "Python 3"
    }
  },
  "cells": [
    {
      "cell_type": "markdown",
      "metadata": {
        "id": "view-in-github",
        "colab_type": "text"
      },
      "source": [
        "<a href=\"https://colab.research.google.com/github/byui-cse/cse121a-notebooks/blob/main/03_1_Hints_and_Helps.ipynb\" target=\"_parent\"><img src=\"https://colab.research.google.com/assets/colab-badge.svg\" alt=\"Open In Colab\"/></a>"
      ]
    },
    {
      "cell_type": "markdown",
      "metadata": {
        "id": "TD6JgKnA5pOw"
      },
      "source": [
        "# Hints and Helps\n",
        "## For Week 03 Tasks\n",
        "### Wednesday, 10 March 2021"
      ]
    },
    {
      "cell_type": "markdown",
      "metadata": {
        "id": "Bq_RXWrd5zIn"
      },
      "source": [
        "## An Operational Definition"
      ]
    },
    {
      "cell_type": "markdown",
      "metadata": {
        "id": "71eB-ajI59nh"
      },
      "source": [
        "A number $n$ is a \"prime pretender\" if it is composite, and each of its prime factors $p$ divides numbers of the form $b^r - 1$, where $b$ is some number where $\\gcd(b, n)$ is $1$, and $r$ is some positive multiple of $p - 1$. In fact, $r = n - 1$."
      ]
    },
    {
      "cell_type": "markdown",
      "metadata": {
        "id": "OTu6l_RC5_ke"
      },
      "source": [
        "### In Other Words..."
      ]
    },
    {
      "cell_type": "markdown",
      "metadata": {
        "id": "6nQI044j6CA8"
      },
      "source": [
        "The number $n$ \"fools\" the *Fermat Primality Test* for every base **relatively prime** to it."
      ]
    },
    {
      "cell_type": "markdown",
      "metadata": {
        "id": "vmH6Suqf6DTX"
      },
      "source": [
        "#### For Example"
      ]
    },
    {
      "cell_type": "markdown",
      "metadata": {
        "id": "TKKhn6IM6Gsy"
      },
      "source": [
        "Take $n = 561$.\n",
        "\n",
        "It is composite because $561 = 3 \\times 11 \\times 17.$\n",
        "\n",
        "$\\gcd(561, b) = 1$ implies that $\\gcd(3, b) = \\gcd(11, b) = \\gcd(17, b) = 1$.\n",
        "\n",
        "(Convince yourself of that fact.)\n",
        "\n",
        "Fermat's Little Theorem, which forms the basis of the Fermat Primality Test, says\n",
        "that if $p$ is prime, then $p$ divides $b^{p-1} - 1$ for every $b$ that is not a multiple of $p$.\n",
        "\n",
        "Try it with $p = 3$:\n",
        "\n",
        "Does $3$ divide $b^2 - 1$ for b = $2$? $4$? $5$?\n",
        "\n",
        "(Yes, yes, and yes.)\n",
        "\n",
        "How about $5$? $5$ divides $b^4 - 1$ for $b = 2, 3, 4, 6, \\ldots$\n",
        "\n",
        "Check for $b = 11$ and $b = 17$ too.\n",
        "\n",
        "Now $r = n - 1 = 561 - 1 = 560$.\n",
        "\n",
        "$560$ is a multiple of $2$, which is $3 - 1$.\n",
        "\n",
        "$560$ is also a multiple of $10$, which is $11 - 1$.\n",
        "\n",
        "$560$ is also a multiple of $16$, which is $17 - 1$."
      ]
    },
    {
      "cell_type": "markdown",
      "metadata": {
        "id": "LV1qpm5cxwJl"
      },
      "source": [
        "## TODO In-Class Exercise"
      ]
    },
    {
      "cell_type": "code",
      "metadata": {
        "id": "2wOyVBG1x1vz"
      },
      "source": [
        "from clj import *\n",
        "clj('''\n",
        "(println\n",
        "(take 100 (iterate inc 3))\n",
        ")\n",
        "''')"
      ],
      "execution_count": null,
      "outputs": []
    },
    {
      "cell_type": "markdown",
      "metadata": {
        "id": "bfVrXxdmywrN"
      },
      "source": [
        "Study this code and describe how it works.\n",
        "Hint: use \"doc\""
      ]
    },
    {
      "cell_type": "code",
      "metadata": {
        "id": "lMvYjxEpyXK9"
      },
      "source": [
        "from clj import *\n",
        "clj('''\n",
        "(defn primes-up-to [n]\n",
        "  (reduce\n",
        "    (fn [primes number]\n",
        "      (if (some zero? (map (partial mod number) primes))\n",
        "        primes\n",
        "        (conj primes number)))\n",
        "    [2]\n",
        "    (take n (iterate inc 3))))\n",
        "''')"
      ],
      "execution_count": null,
      "outputs": []
    }
  ]
}